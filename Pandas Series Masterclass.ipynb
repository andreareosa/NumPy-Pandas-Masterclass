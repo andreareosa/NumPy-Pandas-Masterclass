{
 "cells": [
  {
   "cell_type": "markdown",
   "metadata": {},
   "source": [
    "# Pandas\n",
    "\n",
    "**Pandas** is Python’s most widely used library for data analysis, and contains functions for accessing, aggregating, joining, and analyzing data. \n",
    "Its data structure, the DataFrame, is analogous to SQL tables or Excel worksheets\n"
   ]
  },
  {
   "cell_type": "markdown",
   "metadata": {},
   "source": [
    "## Pandas Series\n",
    "**Pandas Series is the equivalent of a column of data.** In this section we will cover their basic properties, creation, manipulation and useful functions.\n",
    "\n",
    "Pandas series are really just numpy arrays with additional features layered into them to make them easier to work with.\n",
    "\n",
    "Topics covered:\n",
    "\n",
    "* Pandas Series Basics\n",
    "* Series Indexing\n",
    "* Sorting and Filtering\n",
    "* Operations and Aggregations\n",
    "* Handling Missing Data\n",
    "* Applying Custom Functions"
   ]
  },
  {
   "cell_type": "markdown",
   "metadata": {},
   "source": [
    "### Pandas Series Basics\n",
    "\n",
    "**Series** are Pandas data structures built on top of NumPy arrays\n",
    "\n",
    "* Series also contain an index and an optional name, in addition to the array of data\n",
    "* They can be created from other data types but are usually imported from external sources\n",
    "* Two or more Series grouped together form a Pandas DataFrame\n",
    "\n",
    "\n",
    "Pandas Series have the following key properties:\n",
    "* **values** - the data array in the Series\n",
    "* **index** - the index array in the Series\n",
    "* **name** - the optional name for the Series (usefull for accessing columns in a DataFrame)\n",
    "* **dtype** - the data type of the elements in the values array"
   ]
  },
  {
   "cell_type": "code",
   "execution_count": 1,
   "metadata": {},
   "outputs": [],
   "source": [
    "import numpy as np\n",
    "import pandas as pd"
   ]
  },
  {
   "cell_type": "code",
   "execution_count": 2,
   "metadata": {},
   "outputs": [
    {
     "data": {
      "text/plain": [
       "0       0\n",
       "1       5\n",
       "2     155\n",
       "3       0\n",
       "4     518\n",
       "5       0\n",
       "6    1827\n",
       "7     616\n",
       "8     317\n",
       "9     325\n",
       "Name: sales, dtype: int64"
      ]
     },
     "execution_count": 2,
     "metadata": {},
     "output_type": "execute_result"
    }
   ],
   "source": [
    "sales = [0,5,155,0,518,0,1827,616,317,325]\n",
    "\n",
    "sales_series = pd.Series(sales,name='sales')\n",
    "\n",
    "sales_series"
   ]
  },
  {
   "cell_type": "code",
   "execution_count": 3,
   "metadata": {},
   "outputs": [
    {
     "data": {
      "text/plain": [
       "array([   0,    5,  155,    0,  518,    0, 1827,  616,  317,  325],\n",
       "      dtype=int64)"
      ]
     },
     "execution_count": 3,
     "metadata": {},
     "output_type": "execute_result"
    }
   ],
   "source": [
    "sales_series.values"
   ]
  },
  {
   "cell_type": "markdown",
   "metadata": {},
   "source": [
    "### Pandas Data Types\n",
    "\n",
    "**Numeric**:\n",
    "* boolean - Nullable Boolean True/False\n",
    "* Int64 - Nullable whole numbers\n",
    "* Float64 - Nullable decimal numbers\n",
    "\n",
    "**Text**:\n",
    "* String - Only contains strings or text\n",
    "* Category - Maps categorical data to a numeric array for efficiency\n",
    "\n",
    "**Time Series**:\n",
    "* datetime64 - A single moment in time (January 4,2015,2:00:00 PM)\n",
    "* timedelta -  The duration between two dates or times\n",
    "* period - A span of time (a day, a week, etc)\n",
    "\n",
    "It's possible to convert the data type in a Pandas Series by using the .astype() method and specifying the desired data type if compatible."
   ]
  },
  {
   "cell_type": "code",
   "execution_count": 4,
   "metadata": {},
   "outputs": [
    {
     "data": {
      "text/plain": [
       "0       0\n",
       "1       5\n",
       "2     155\n",
       "3       0\n",
       "4     518\n",
       "5       0\n",
       "6    1827\n",
       "7     616\n",
       "8     317\n",
       "9     325\n",
       "Name: sales, dtype: int64"
      ]
     },
     "execution_count": 4,
     "metadata": {},
     "output_type": "execute_result"
    }
   ],
   "source": [
    "sales_series"
   ]
  },
  {
   "cell_type": "code",
   "execution_count": 5,
   "metadata": {},
   "outputs": [
    {
     "data": {
      "text/plain": [
       "0       0.0\n",
       "1       5.0\n",
       "2     155.0\n",
       "3       0.0\n",
       "4     518.0\n",
       "5       0.0\n",
       "6    1827.0\n",
       "7     616.0\n",
       "8     317.0\n",
       "9     325.0\n",
       "Name: sales, dtype: float64"
      ]
     },
     "execution_count": 5,
     "metadata": {},
     "output_type": "execute_result"
    }
   ],
   "source": [
    "sales_series.astype('float')"
   ]
  },
  {
   "cell_type": "markdown",
   "metadata": {},
   "source": [
    "### Series Indexing\n",
    "\n",
    "The index lets us easily access 'rows' in a Panda Series or DataFrame and is one of the key distinguishing factores between an array and a Pandas Series.\n",
    "\n",
    "Genereally we should not assign categorical values to the index, but there are cases where it's applicable to use a custom index for accesing rows. This will become more relevant when working with datetimes."
   ]
  },
  {
   "cell_type": "code",
   "execution_count": 6,
   "metadata": {},
   "outputs": [
    {
     "data": {
      "text/plain": [
       "Day 1      0\n",
       "Day 2      5\n",
       "Day 3    155\n",
       "Day 4      0\n",
       "Day 5    518\n",
       "Name: sales, dtype: int64"
      ]
     },
     "execution_count": 6,
     "metadata": {},
     "output_type": "execute_result"
    }
   ],
   "source": [
    "sales2 = sales_series[:5]\n",
    "sales2.index = ['Day 1','Day 2','Day 3','Day 4','Day 5']\n",
    "sales2"
   ]
  },
  {
   "cell_type": "code",
   "execution_count": 7,
   "metadata": {},
   "outputs": [
    {
     "data": {
      "text/plain": [
       "155"
      ]
     },
     "execution_count": 7,
     "metadata": {},
     "output_type": "execute_result"
    }
   ],
   "source": [
    "sales2['Day 3']"
   ]
  },
  {
   "cell_type": "code",
   "execution_count": 8,
   "metadata": {},
   "outputs": [
    {
     "data": {
      "text/plain": [
       "Day 1      0\n",
       "Day 2      5\n",
       "Day 3    155\n",
       "Name: sales, dtype: int64"
      ]
     },
     "execution_count": 8,
     "metadata": {},
     "output_type": "execute_result"
    }
   ],
   "source": [
    "sales2['Day 1':'Day 3']"
   ]
  },
  {
   "cell_type": "code",
   "execution_count": 9,
   "metadata": {},
   "outputs": [
    {
     "data": {
      "text/plain": [
       "Day 1      0\n",
       "Day 3    155\n",
       "Day 5    518\n",
       "Name: sales, dtype: int64"
      ]
     },
     "execution_count": 9,
     "metadata": {},
     "output_type": "execute_result"
    }
   ],
   "source": [
    "sales2[::2]"
   ]
  },
  {
   "cell_type": "markdown",
   "metadata": {},
   "source": [
    "### The ILOC\n",
    "\n",
    "The **.iloc[]** method is the preferred way to access values by their positional index.\n",
    "* It works even when Series have a custom, non-integer index\n",
    "* It is more efficient than slicing and is actually recommended by Pandas' creators\n",
    "\n",
    "`df.iloc[row position,column position]`"
   ]
  },
  {
   "cell_type": "code",
   "execution_count": 10,
   "metadata": {},
   "outputs": [
    {
     "data": {
      "text/plain": [
       "155"
      ]
     },
     "execution_count": 10,
     "metadata": {},
     "output_type": "execute_result"
    }
   ],
   "source": [
    "sales_series.iloc[2]"
   ]
  },
  {
   "cell_type": "code",
   "execution_count": 11,
   "metadata": {},
   "outputs": [
    {
     "data": {
      "text/plain": [
       "2    155\n",
       "3      0\n",
       "Name: sales, dtype: int64"
      ]
     },
     "execution_count": 11,
     "metadata": {},
     "output_type": "execute_result"
    }
   ],
   "source": [
    "sales_series.iloc[2:4]"
   ]
  },
  {
   "cell_type": "code",
   "execution_count": 12,
   "metadata": {},
   "outputs": [
    {
     "data": {
      "text/plain": [
       "325"
      ]
     },
     "execution_count": 12,
     "metadata": {},
     "output_type": "execute_result"
    }
   ],
   "source": [
    "sales_series.iloc[-1]"
   ]
  },
  {
   "cell_type": "code",
   "execution_count": 13,
   "metadata": {},
   "outputs": [
    {
     "data": {
      "text/plain": [
       "0      0\n",
       "1      5\n",
       "2    155\n",
       "Name: sales, dtype: int64"
      ]
     },
     "execution_count": 13,
     "metadata": {},
     "output_type": "execute_result"
    }
   ],
   "source": [
    "sales_series.iloc[[0,1,2]]"
   ]
  },
  {
   "cell_type": "markdown",
   "metadata": {},
   "source": [
    "### The LOC Method\n",
    "\n",
    "The **.loc[]** method is more used and is the preferred way to access values by their custom labels. \n",
    "\n",
    "Normally its more used because most of the time we're trying to access both rows as well as a subset of columns and referencing column names by their labels. **Opposed to iloc referencing column index 0,1 or 2 with loc we will be referencing column 'price', 'customer', 'sales amount'.**\n",
    "\n",
    "`df.loc[row label,column label]`"
   ]
  },
  {
   "cell_type": "code",
   "execution_count": 14,
   "metadata": {},
   "outputs": [
    {
     "data": {
      "text/plain": [
       "Day 1      0\n",
       "Day 2      5\n",
       "Day 3    155\n",
       "Day 4      0\n",
       "Day 5    518\n",
       "Name: sales, dtype: int64"
      ]
     },
     "execution_count": 14,
     "metadata": {},
     "output_type": "execute_result"
    }
   ],
   "source": [
    "sales2"
   ]
  },
  {
   "cell_type": "code",
   "execution_count": 15,
   "metadata": {},
   "outputs": [
    {
     "data": {
      "text/plain": [
       "518"
      ]
     },
     "execution_count": 15,
     "metadata": {},
     "output_type": "execute_result"
    }
   ],
   "source": [
    "#LOC method access values by their custom labels\n",
    "sales2.loc['Day 5']"
   ]
  },
  {
   "cell_type": "code",
   "execution_count": 16,
   "metadata": {},
   "outputs": [
    {
     "data": {
      "text/plain": [
       "518"
      ]
     },
     "execution_count": 16,
     "metadata": {},
     "output_type": "execute_result"
    }
   ],
   "source": [
    "#ILOC method access values by their index position\n",
    "sales2.iloc[-1]"
   ]
  },
  {
   "cell_type": "markdown",
   "metadata": {},
   "source": [
    "### Duplicate Index Values & Resetting The Index\n",
    "\n",
    "**It's possible to have duplicated index values** in a Pandas Series or DataFrame. However if we don't touch our index, we won't have to worry about that. But if we create an index that has duplicated values we will have different rows with the same index which is not the ideal scenario. The best practice is to have at least one unique row identifier that allows us to return one row for one index or one lookup value.\n",
    "\n",
    "* Accessing these indices by their label using `.loc[]` returns all corresponding rows\n",
    "\n",
    "Nevertheless, we can always **reset the index** back to the default range of integers by using the `.reset_index()` method. By default the index will be reseted and the previous index will become a new column"
   ]
  },
  {
   "cell_type": "code",
   "execution_count": 17,
   "metadata": {},
   "outputs": [
    {
     "data": {
      "text/plain": [
       "Day 1      0\n",
       "Day 1      5\n",
       "Day 3    155\n",
       "Day 4      0\n",
       "Day 5    518\n",
       "Name: sales, dtype: int64"
      ]
     },
     "execution_count": 17,
     "metadata": {},
     "output_type": "execute_result"
    }
   ],
   "source": [
    "sales3 = sales_series[:5]\n",
    "sales3.index = ['Day 1','Day 1','Day 3','Day 4','Day 5']\n",
    "sales3"
   ]
  },
  {
   "cell_type": "code",
   "execution_count": 18,
   "metadata": {},
   "outputs": [
    {
     "data": {
      "text/plain": [
       "Day 1    0\n",
       "Day 1    5\n",
       "Name: sales, dtype: int64"
      ]
     },
     "execution_count": 18,
     "metadata": {},
     "output_type": "execute_result"
    }
   ],
   "source": [
    "sales3.loc['Day 1']"
   ]
  },
  {
   "cell_type": "code",
   "execution_count": 19,
   "metadata": {},
   "outputs": [
    {
     "data": {
      "text/html": [
       "<div>\n",
       "<style scoped>\n",
       "    .dataframe tbody tr th:only-of-type {\n",
       "        vertical-align: middle;\n",
       "    }\n",
       "\n",
       "    .dataframe tbody tr th {\n",
       "        vertical-align: top;\n",
       "    }\n",
       "\n",
       "    .dataframe thead th {\n",
       "        text-align: right;\n",
       "    }\n",
       "</style>\n",
       "<table border=\"1\" class=\"dataframe\">\n",
       "  <thead>\n",
       "    <tr style=\"text-align: right;\">\n",
       "      <th></th>\n",
       "      <th>index</th>\n",
       "      <th>sales</th>\n",
       "    </tr>\n",
       "  </thead>\n",
       "  <tbody>\n",
       "    <tr>\n",
       "      <th>0</th>\n",
       "      <td>Day 1</td>\n",
       "      <td>0</td>\n",
       "    </tr>\n",
       "    <tr>\n",
       "      <th>1</th>\n",
       "      <td>Day 1</td>\n",
       "      <td>5</td>\n",
       "    </tr>\n",
       "    <tr>\n",
       "      <th>2</th>\n",
       "      <td>Day 3</td>\n",
       "      <td>155</td>\n",
       "    </tr>\n",
       "    <tr>\n",
       "      <th>3</th>\n",
       "      <td>Day 4</td>\n",
       "      <td>0</td>\n",
       "    </tr>\n",
       "    <tr>\n",
       "      <th>4</th>\n",
       "      <td>Day 5</td>\n",
       "      <td>518</td>\n",
       "    </tr>\n",
       "  </tbody>\n",
       "</table>\n",
       "</div>"
      ],
      "text/plain": [
       "   index  sales\n",
       "0  Day 1      0\n",
       "1  Day 1      5\n",
       "2  Day 3    155\n",
       "3  Day 4      0\n",
       "4  Day 5    518"
      ]
     },
     "execution_count": 19,
     "metadata": {},
     "output_type": "execute_result"
    }
   ],
   "source": [
    "sales3.reset_index()\n",
    "#If we don't want to save the previous index as a new column, we can drop it: sales3.reset_index(drop=True)"
   ]
  },
  {
   "cell_type": "markdown",
   "metadata": {},
   "source": [
    "### Filtering Series\n",
    "\n",
    "We can filter a Series by passing a logic test into the `.loc[]` method (like arrays)."
   ]
  },
  {
   "cell_type": "code",
   "execution_count": 25,
   "metadata": {},
   "outputs": [
    {
     "data": {
      "text/plain": [
       "Day 1      0\n",
       "Day 1      5\n",
       "Day 3    155\n",
       "Day 4      0\n",
       "Day 5    518\n",
       "Name: sales, dtype: int64"
      ]
     },
     "execution_count": 25,
     "metadata": {},
     "output_type": "execute_result"
    }
   ],
   "source": [
    "sales3"
   ]
  },
  {
   "cell_type": "code",
   "execution_count": 28,
   "metadata": {},
   "outputs": [
    {
     "data": {
      "text/plain": [
       "Day 1      5\n",
       "Day 3    155\n",
       "Day 5    518\n",
       "Name: sales, dtype: int64"
      ]
     },
     "execution_count": 28,
     "metadata": {},
     "output_type": "execute_result"
    }
   ],
   "source": [
    "sales3.loc[sales3 > 0]"
   ]
  },
  {
   "cell_type": "code",
   "execution_count": 32,
   "metadata": {},
   "outputs": [
    {
     "data": {
      "text/plain": [
       "Day 1    5\n",
       "Name: sales, dtype: int64"
      ]
     },
     "execution_count": 32,
     "metadata": {},
     "output_type": "execute_result"
    }
   ],
   "source": [
    "sales3.loc[(sales3.index == 'Day 1') & (sales3 > 4)]"
   ]
  },
  {
   "cell_type": "markdown",
   "metadata": {},
   "source": [
    "### Logical Operators & Methods\n",
    "\n",
    "We can use the following operators & methods to create Boolean filters for logical tests. Normally Python operators are more used:\n",
    "![Capture.PNG](https://i.ibb.co/1q3djB4/Capture.png)"
   ]
  },
  {
   "cell_type": "code",
   "execution_count": 33,
   "metadata": {},
   "outputs": [
    {
     "data": {
      "text/plain": [
       "Day 1    False\n",
       "Day 1     True\n",
       "Day 3    False\n",
       "Day 4    False\n",
       "Day 5    False\n",
       "Name: sales, dtype: bool"
      ]
     },
     "execution_count": 33,
     "metadata": {},
     "output_type": "execute_result"
    }
   ],
   "source": [
    "sales3 == 5"
   ]
  },
  {
   "cell_type": "code",
   "execution_count": 34,
   "metadata": {},
   "outputs": [
    {
     "data": {
      "text/plain": [
       "Day 1    False\n",
       "Day 1     True\n",
       "Day 3    False\n",
       "Day 4    False\n",
       "Day 5    False\n",
       "Name: sales, dtype: bool"
      ]
     },
     "execution_count": 34,
     "metadata": {},
     "output_type": "execute_result"
    }
   ],
   "source": [
    "sales3.eq(5)"
   ]
  },
  {
   "cell_type": "code",
   "execution_count": 54,
   "metadata": {},
   "outputs": [
    {
     "data": {
      "text/plain": [
       "Day 1    False\n",
       "Day 1     True\n",
       "Day 3    False\n",
       "Day 4    False\n",
       "Day 5    False\n",
       "Name: sales, dtype: bool"
      ]
     },
     "execution_count": 54,
     "metadata": {},
     "output_type": "execute_result"
    }
   ],
   "source": [
    "(sales3.index.isin(['Day 1'])) & (sales3 == 5)"
   ]
  },
  {
   "cell_type": "code",
   "execution_count": 41,
   "metadata": {},
   "outputs": [
    {
     "data": {
      "text/plain": [
       "array([False, False,  True,  True,  True])"
      ]
     },
     "execution_count": 41,
     "metadata": {},
     "output_type": "execute_result"
    }
   ],
   "source": [
    "~sales3.index.isin(['Day 1'])"
   ]
  },
  {
   "cell_type": "markdown",
   "metadata": {},
   "source": [
    "### Sorting Series\n",
    "\n",
    "We can sort Series by their values or their index. By default the `sort()` sorts a series by its values in ascending order."
   ]
  },
  {
   "cell_type": "code",
   "execution_count": 47,
   "metadata": {},
   "outputs": [
    {
     "data": {
      "text/plain": [
       "0       0\n",
       "1       5\n",
       "2     155\n",
       "3       0\n",
       "4     518\n",
       "5       0\n",
       "6    1827\n",
       "7     616\n",
       "8     317\n",
       "9     325\n",
       "Name: sales, dtype: int64"
      ]
     },
     "execution_count": 47,
     "metadata": {},
     "output_type": "execute_result"
    }
   ],
   "source": [
    "sales_series"
   ]
  },
  {
   "cell_type": "code",
   "execution_count": 48,
   "metadata": {},
   "outputs": [
    {
     "data": {
      "text/plain": [
       "0       0\n",
       "3       0\n",
       "5       0\n",
       "1       5\n",
       "2     155\n",
       "8     317\n",
       "9     325\n",
       "4     518\n",
       "7     616\n",
       "6    1827\n",
       "Name: sales, dtype: int64"
      ]
     },
     "execution_count": 48,
     "metadata": {},
     "output_type": "execute_result"
    }
   ],
   "source": [
    "sales_series.sort_values()"
   ]
  },
  {
   "cell_type": "code",
   "execution_count": 50,
   "metadata": {},
   "outputs": [
    {
     "data": {
      "text/plain": [
       "9     325\n",
       "8     317\n",
       "7     616\n",
       "6    1827\n",
       "5       0\n",
       "4     518\n",
       "3       0\n",
       "2     155\n",
       "1       5\n",
       "0       0\n",
       "Name: sales, dtype: int64"
      ]
     },
     "execution_count": 50,
     "metadata": {},
     "output_type": "execute_result"
    }
   ],
   "source": [
    "sales_series.sort_index(ascending=False)"
   ]
  },
  {
   "cell_type": "markdown",
   "metadata": {},
   "source": [
    "### Arithmetic Operators and Methods\n",
    "\n",
    "There are several operators and methods that we can use to perform numeric operations in series. In most cases its more frequent to stick with the python operators but there's a couple of use cases where those pandas methods can be very handy:\n",
    "![Capture.PNG](https://i.ibb.co/pQwJyZ5/Capture.png)"
   ]
  },
  {
   "cell_type": "code",
   "execution_count": 61,
   "metadata": {},
   "outputs": [
    {
     "data": {
      "text/plain": [
       "0      0\n",
       "1      5\n",
       "2    155\n",
       "3      0\n",
       "4    518\n",
       "Name: sales, dtype: int64"
      ]
     },
     "execution_count": 61,
     "metadata": {},
     "output_type": "execute_result"
    }
   ],
   "source": [
    "sales_series = sales_series.loc[:4]\n",
    "sales_series"
   ]
  },
  {
   "cell_type": "code",
   "execution_count": 62,
   "metadata": {},
   "outputs": [
    {
     "data": {
      "text/plain": [
       "0      2\n",
       "1      7\n",
       "2    157\n",
       "3      2\n",
       "4    520\n",
       "Name: sales, dtype: int64"
      ]
     },
     "execution_count": 62,
     "metadata": {},
     "output_type": "execute_result"
    }
   ],
   "source": [
    "sales_series + 2"
   ]
  },
  {
   "cell_type": "code",
   "execution_count": 68,
   "metadata": {},
   "outputs": [
    {
     "data": {
      "text/plain": [
       "0      0.0 €\n",
       "1      5.0 €\n",
       "2    155.0 €\n",
       "3      0.0 €\n",
       "4    518.0 €\n",
       "Name: sales, dtype: string"
      ]
     },
     "execution_count": 68,
     "metadata": {},
     "output_type": "execute_result"
    }
   ],
   "source": [
    "sales_series.astype('float').astype('string') + ' €'"
   ]
  },
  {
   "cell_type": "code",
   "execution_count": 69,
   "metadata": {},
   "outputs": [
    {
     "data": {
      "text/plain": [
       "0      2\n",
       "1      7\n",
       "2    157\n",
       "3      2\n",
       "4    520\n",
       "Name: sales, dtype: int64"
      ]
     },
     "execution_count": 69,
     "metadata": {},
     "output_type": "execute_result"
    }
   ],
   "source": [
    "#Or we can use the pandas addition method\n",
    "sales_series.add(2)"
   ]
  },
  {
   "cell_type": "code",
   "execution_count": 73,
   "metadata": {},
   "outputs": [
    {
     "data": {
      "text/plain": [
       "0      0.0\n",
       "1      NaN\n",
       "2    155.0\n",
       "3      0.0\n",
       "4    518.0\n",
       "Name: sales, dtype: float64"
      ]
     },
     "execution_count": 73,
     "metadata": {},
     "output_type": "execute_result"
    }
   ],
   "source": [
    "#The pandas addition method is very handy when we have missing data\n",
    "sales_series[1] = np.nan\n",
    "sales_series"
   ]
  },
  {
   "cell_type": "code",
   "execution_count": 74,
   "metadata": {},
   "outputs": [
    {
     "data": {
      "text/plain": [
       "0      2.0\n",
       "1      NaN\n",
       "2    157.0\n",
       "3      2.0\n",
       "4    520.0\n",
       "Name: sales, dtype: float64"
      ]
     },
     "execution_count": 74,
     "metadata": {},
     "output_type": "execute_result"
    }
   ],
   "source": [
    "sales_series.add(2)"
   ]
  },
  {
   "cell_type": "code",
   "execution_count": 81,
   "metadata": {},
   "outputs": [
    {
     "data": {
      "text/plain": [
       "0      2.0\n",
       "1      2.0\n",
       "2    157.0\n",
       "3      2.0\n",
       "4    520.0\n",
       "Name: sales, dtype: float64"
      ]
     },
     "execution_count": 81,
     "metadata": {},
     "output_type": "execute_result"
    }
   ],
   "source": [
    "#We can use the fill_value to impute zero before performing the addition)\n",
    "sales_series.add(2,fill_value=0)"
   ]
  },
  {
   "cell_type": "markdown",
   "metadata": {},
   "source": [
    "### String Methods\n",
    "\n",
    "The Pandas `.str` accessor lets us access many string methods such as:\n",
    "![Capture.PNG](https://i.ibb.co/b7VzY4G/Capture.png)"
   ]
  },
  {
   "cell_type": "code",
   "execution_count": 86,
   "metadata": {},
   "outputs": [
    {
     "data": {
      "text/plain": [
       "0          TV\n",
       "1       Phone\n",
       "2          TV\n",
       "3    Computer\n",
       "4       Watch\n",
       "dtype: object"
      ]
     },
     "execution_count": 86,
     "metadata": {},
     "output_type": "execute_result"
    }
   ],
   "source": [
    "tech_stuff = pd.Series(['TV','Phone','TV','Computer','Watch'])\n",
    "tech_stuff"
   ]
  },
  {
   "cell_type": "code",
   "execution_count": 87,
   "metadata": {},
   "outputs": [
    {
     "data": {
      "text/plain": [
       "0          TV\n",
       "1       PHONE\n",
       "2          TV\n",
       "3    COMPUTER\n",
       "4       WATCH\n",
       "dtype: object"
      ]
     },
     "execution_count": 87,
     "metadata": {},
     "output_type": "execute_result"
    }
   ],
   "source": [
    "tech_stuff.str.upper()"
   ]
  },
  {
   "cell_type": "code",
   "execution_count": 94,
   "metadata": {},
   "outputs": [
    {
     "data": {
      "text/plain": [
       "0    TV\n",
       "2    TV\n",
       "dtype: object"
      ]
     },
     "execution_count": 94,
     "metadata": {},
     "output_type": "execute_result"
    }
   ],
   "source": [
    "tech_stuff.loc[tech_stuff.str.contains('TV')]"
   ]
  },
  {
   "cell_type": "code",
   "execution_count": 95,
   "metadata": {},
   "outputs": [
    {
     "data": {
      "text/plain": [
       "0          TV 999\n",
       "1       Phone 350\n",
       "2          TV 876\n",
       "3    Computer 779\n",
       "4       Watch 159\n",
       "dtype: object"
      ]
     },
     "execution_count": 95,
     "metadata": {},
     "output_type": "execute_result"
    }
   ],
   "source": [
    "tech_prices = pd.Series(['TV 999','Phone 350','TV 876','Computer 779','Watch 159'])\n",
    "tech_prices"
   ]
  },
  {
   "cell_type": "code",
   "execution_count": 98,
   "metadata": {},
   "outputs": [
    {
     "data": {
      "text/html": [
       "<div>\n",
       "<style scoped>\n",
       "    .dataframe tbody tr th:only-of-type {\n",
       "        vertical-align: middle;\n",
       "    }\n",
       "\n",
       "    .dataframe tbody tr th {\n",
       "        vertical-align: top;\n",
       "    }\n",
       "\n",
       "    .dataframe thead th {\n",
       "        text-align: right;\n",
       "    }\n",
       "</style>\n",
       "<table border=\"1\" class=\"dataframe\">\n",
       "  <thead>\n",
       "    <tr style=\"text-align: right;\">\n",
       "      <th></th>\n",
       "      <th>0</th>\n",
       "      <th>1</th>\n",
       "    </tr>\n",
       "  </thead>\n",
       "  <tbody>\n",
       "    <tr>\n",
       "      <th>0</th>\n",
       "      <td>TV</td>\n",
       "      <td>999</td>\n",
       "    </tr>\n",
       "    <tr>\n",
       "      <th>1</th>\n",
       "      <td>Phone</td>\n",
       "      <td>350</td>\n",
       "    </tr>\n",
       "    <tr>\n",
       "      <th>2</th>\n",
       "      <td>TV</td>\n",
       "      <td>876</td>\n",
       "    </tr>\n",
       "    <tr>\n",
       "      <th>3</th>\n",
       "      <td>Computer</td>\n",
       "      <td>779</td>\n",
       "    </tr>\n",
       "    <tr>\n",
       "      <th>4</th>\n",
       "      <td>Watch</td>\n",
       "      <td>159</td>\n",
       "    </tr>\n",
       "  </tbody>\n",
       "</table>\n",
       "</div>"
      ],
      "text/plain": [
       "          0    1\n",
       "0        TV  999\n",
       "1     Phone  350\n",
       "2        TV  876\n",
       "3  Computer  779\n",
       "4     Watch  159"
      ]
     },
     "execution_count": 98,
     "metadata": {},
     "output_type": "execute_result"
    }
   ],
   "source": [
    "#If we have useful data combined into a single string that we want to break up into columns the split method will achieve that\n",
    "tech_prices.str.split(' ',expand=True)"
   ]
  },
  {
   "cell_type": "markdown",
   "metadata": {},
   "source": [
    "### Numeric Series Aggregation\n",
    "\n",
    "We can perform a lot of different types if aggregations on our numeric series.\n",
    "![Capture.PNG](https://i.ibb.co/FYvDs63/Capture.png)"
   ]
  },
  {
   "cell_type": "code",
   "execution_count": 103,
   "metadata": {},
   "outputs": [
    {
     "data": {
      "text/plain": [
       "0      0.0\n",
       "1      2.0\n",
       "2    155.0\n",
       "3      0.0\n",
       "4    518.0\n",
       "Name: sales, dtype: float64"
      ]
     },
     "execution_count": 103,
     "metadata": {},
     "output_type": "execute_result"
    }
   ],
   "source": [
    "sales_series"
   ]
  },
  {
   "cell_type": "code",
   "execution_count": 104,
   "metadata": {},
   "outputs": [
    {
     "data": {
      "text/plain": [
       "5"
      ]
     },
     "execution_count": 104,
     "metadata": {},
     "output_type": "execute_result"
    }
   ],
   "source": [
    "sales_series.count()"
   ]
  },
  {
   "cell_type": "code",
   "execution_count": 105,
   "metadata": {},
   "outputs": [
    {
     "data": {
      "text/plain": [
       "675.0"
      ]
     },
     "execution_count": 105,
     "metadata": {},
     "output_type": "execute_result"
    }
   ],
   "source": [
    "sales_series.sum()"
   ]
  },
  {
   "cell_type": "code",
   "execution_count": 106,
   "metadata": {},
   "outputs": [
    {
     "data": {
      "text/plain": [
       "Day 1      0\n",
       "Day 1      5\n",
       "Day 3    155\n",
       "Day 4      0\n",
       "Day 5    518\n",
       "Name: sales, dtype: int64"
      ]
     },
     "execution_count": 106,
     "metadata": {},
     "output_type": "execute_result"
    }
   ],
   "source": [
    "sales3"
   ]
  },
  {
   "cell_type": "code",
   "execution_count": 108,
   "metadata": {},
   "outputs": [
    {
     "data": {
      "text/plain": [
       "5"
      ]
     },
     "execution_count": 108,
     "metadata": {},
     "output_type": "execute_result"
    }
   ],
   "source": [
    "sales3.loc['Day 1'].sum()"
   ]
  },
  {
   "cell_type": "markdown",
   "metadata": {},
   "source": [
    "### Categorical Series Aggregation\n",
    "\n",
    "The following methods here tend to work best on text fields of categorical fields that have values repeated throughout a series of data but we can call them on numeric series as well.\n",
    "![Capture.PNG](https://i.ibb.co/TBHpW68/Capture.png)"
   ]
  },
  {
   "cell_type": "code",
   "execution_count": 109,
   "metadata": {},
   "outputs": [
    {
     "data": {
      "text/plain": [
       "0          TV\n",
       "1       Phone\n",
       "2          TV\n",
       "3    Computer\n",
       "4       Watch\n",
       "dtype: object"
      ]
     },
     "execution_count": 109,
     "metadata": {},
     "output_type": "execute_result"
    }
   ],
   "source": [
    "tech_stuff"
   ]
  },
  {
   "cell_type": "code",
   "execution_count": 111,
   "metadata": {},
   "outputs": [
    {
     "data": {
      "text/plain": [
       "TV          2\n",
       "Phone       1\n",
       "Computer    1\n",
       "Watch       1\n",
       "dtype: int64"
      ]
     },
     "execution_count": 111,
     "metadata": {},
     "output_type": "execute_result"
    }
   ],
   "source": [
    "tech_stuff.value_counts()"
   ]
  },
  {
   "cell_type": "code",
   "execution_count": 112,
   "metadata": {},
   "outputs": [
    {
     "data": {
      "text/plain": [
       "TV          0.4\n",
       "Phone       0.2\n",
       "Computer    0.2\n",
       "Watch       0.2\n",
       "dtype: float64"
      ]
     },
     "execution_count": 112,
     "metadata": {},
     "output_type": "execute_result"
    }
   ],
   "source": [
    "#% value count\n",
    "tech_stuff.value_counts(normalize=True)"
   ]
  },
  {
   "cell_type": "code",
   "execution_count": 113,
   "metadata": {},
   "outputs": [
    {
     "data": {
      "text/plain": [
       "array(['TV', 'Phone', 'Computer', 'Watch'], dtype=object)"
      ]
     },
     "execution_count": 113,
     "metadata": {},
     "output_type": "execute_result"
    }
   ],
   "source": [
    "tech_stuff.unique()"
   ]
  },
  {
   "cell_type": "code",
   "execution_count": 116,
   "metadata": {},
   "outputs": [
    {
     "name": "stdout",
     "output_type": "stream",
     "text": [
      "Unique items in the series: 4\n"
     ]
    }
   ],
   "source": [
    "print('Unique items in the series:',tech_stuff.nunique())"
   ]
  },
  {
   "cell_type": "markdown",
   "metadata": {},
   "source": [
    "### Missing Data\n",
    "\n",
    "Missing data in Pandas is often represented by NumPy 'NaN' values\n",
    "* This is more efficient than Python's 'None' data type\n",
    "* Pandas treats NaN values as a float, which allows them to be used in vectorized operations\n",
    "\n",
    "`np.nan` creates a NaN value however these are rarely created by hand and typically appear when reading in data from external sources"
   ]
  },
  {
   "cell_type": "code",
   "execution_count": 181,
   "metadata": {},
   "outputs": [
    {
     "data": {
      "text/plain": [
       "0     5.0\n",
       "1    10.0\n",
       "2     NaN\n",
       "3    25.0\n",
       "4    30.0\n",
       "5     NaN\n",
       "6    15.0\n",
       "Name: nan_sales, dtype: float64"
      ]
     },
     "execution_count": 181,
     "metadata": {},
     "output_type": "execute_result"
    }
   ],
   "source": [
    "sales = [5,10,np.nan,25,30,np.nan,15]\n",
    "sales_series = pd.Series(sales,name='nan_sales')\n",
    "sales_series"
   ]
  },
  {
   "cell_type": "markdown",
   "metadata": {},
   "source": [
    "### Identifying Missing Data\n",
    "\n",
    "The `.isna()` and `.value_counts()` methods will allow us to identify missing data in a Series\n",
    "\n",
    "* The `.isna()` returns True if a value is missing and False otherwise\n",
    "* The `.value_counts()` method returns unique values and their frequency but it supresses null values by default, so we need to specify `dropna=False` to get a count of missing values"
   ]
  },
  {
   "cell_type": "code",
   "execution_count": 131,
   "metadata": {},
   "outputs": [
    {
     "data": {
      "text/plain": [
       "0    False\n",
       "1    False\n",
       "2     True\n",
       "3    False\n",
       "4    False\n",
       "5     True\n",
       "6    False\n",
       "Name: nan_sales, dtype: bool"
      ]
     },
     "execution_count": 131,
     "metadata": {},
     "output_type": "execute_result"
    }
   ],
   "source": [
    "sales_series.isna()"
   ]
  },
  {
   "cell_type": "code",
   "execution_count": 132,
   "metadata": {},
   "outputs": [
    {
     "data": {
      "text/plain": [
       "2"
      ]
     },
     "execution_count": 132,
     "metadata": {},
     "output_type": "execute_result"
    }
   ],
   "source": [
    "#To count the null values we have to use the sum() because isna() returns True or False that works as 1 or 0\n",
    "sales_series.isna().sum()"
   ]
  },
  {
   "cell_type": "code",
   "execution_count": 133,
   "metadata": {},
   "outputs": [
    {
     "data": {
      "text/plain": [
       "NaN     2\n",
       "15.0    1\n",
       "30.0    1\n",
       "25.0    1\n",
       "10.0    1\n",
       "5.0     1\n",
       "Name: nan_sales, dtype: int64"
      ]
     },
     "execution_count": 133,
     "metadata": {},
     "output_type": "execute_result"
    }
   ],
   "source": [
    "sales_series.value_counts(dropna=False)"
   ]
  },
  {
   "cell_type": "markdown",
   "metadata": {},
   "source": [
    "### Fixing Missing Data\n",
    "\n",
    "We can either decide to drop missing values or fill those missing values. `.dropna()` and `.fillna()` methods allow us to handle missing data in a Series\n",
    "\n",
    "* The `.dropna()` method removes NaN values from the Series or DataFrame\n",
    "* The `.fillna(value)` method replaces NaN values with a specified value\n"
   ]
  },
  {
   "cell_type": "code",
   "execution_count": 177,
   "metadata": {},
   "outputs": [
    {
     "data": {
      "text/plain": [
       "0     5.0\n",
       "1    10.0\n",
       "2     8.0\n",
       "3    22.5\n",
       "4    27.0\n",
       "5     8.0\n",
       "6    15.0\n",
       "Name: nan_sales, dtype: float64"
      ]
     },
     "execution_count": 177,
     "metadata": {},
     "output_type": "execute_result"
    }
   ],
   "source": [
    "sales_series"
   ]
  },
  {
   "cell_type": "code",
   "execution_count": 182,
   "metadata": {},
   "outputs": [
    {
     "data": {
      "text/plain": [
       "0     5.0\n",
       "1    10.0\n",
       "2    25.0\n",
       "3    30.0\n",
       "4    15.0\n",
       "Name: nan_sales, dtype: float64"
      ]
     },
     "execution_count": 182,
     "metadata": {},
     "output_type": "execute_result"
    }
   ],
   "source": [
    "sales_series.dropna().reset_index(drop=True)"
   ]
  },
  {
   "cell_type": "markdown",
   "metadata": {},
   "source": [
    "After using the `.dropna()` method we can notice that our index will have gaps but we can always use the reset index method to get back to the continuous set of integers"
   ]
  },
  {
   "cell_type": "code",
   "execution_count": 184,
   "metadata": {},
   "outputs": [
    {
     "data": {
      "text/plain": [
       "0     5.0\n",
       "1    10.0\n",
       "2     0.0\n",
       "3    25.0\n",
       "4    30.0\n",
       "5     0.0\n",
       "6    15.0\n",
       "Name: nan_sales, dtype: float64"
      ]
     },
     "execution_count": 184,
     "metadata": {},
     "output_type": "execute_result"
    }
   ],
   "source": [
    "sales_series.fillna(0)"
   ]
  },
  {
   "cell_type": "markdown",
   "metadata": {},
   "source": [
    "It's important to **be thoughtful and deliberate** in how we handle the missing data. We can remove the missing data, we can replace it with zero but we can also impute the missing data with something that makes sense.\n",
    "\n",
    "For example, impute the missing values with the mean. It will keep our summary statistics the same while giving us values to work with.\n",
    "\n",
    "However these operations can dramatically impact the results of an analysis, so we should understand the impacts before acting upon missing date and talk to a data SME (Subject Matter Expert) to understand why data is missing."
   ]
  },
  {
   "cell_type": "code",
   "execution_count": 143,
   "metadata": {},
   "outputs": [
    {
     "data": {
      "text/plain": [
       "0     5.0\n",
       "1    10.0\n",
       "2    17.0\n",
       "3    25.0\n",
       "4    30.0\n",
       "5    17.0\n",
       "6    15.0\n",
       "Name: nan_sales, dtype: float64"
      ]
     },
     "execution_count": 143,
     "metadata": {},
     "output_type": "execute_result"
    }
   ],
   "source": [
    "sales_series.fillna(sales_series.mean())"
   ]
  },
  {
   "cell_type": "markdown",
   "metadata": {},
   "source": [
    "### Applying Custom Functions to Series\n",
    "\n",
    "\n",
    "The `.apply()` method lets us apply custom functions to Pandas Series\n",
    "* This function will not be vectorized so it wont be as efficient as native functions that already exist in NumPy and Pandas"
   ]
  },
  {
   "cell_type": "code",
   "execution_count": 155,
   "metadata": {},
   "outputs": [],
   "source": [
    "# This function applies a 10% discount to prices over 20\n",
    "def discount(price):\n",
    "    \n",
    "    if price > 20:\n",
    "        return round((price * 0.9),2)\n",
    "    \n",
    "    return price"
   ]
  },
  {
   "cell_type": "code",
   "execution_count": 156,
   "metadata": {},
   "outputs": [
    {
     "data": {
      "text/plain": [
       "0     5.0\n",
       "1    10.0\n",
       "2     8.0\n",
       "3    25.0\n",
       "4    30.0\n",
       "5     8.0\n",
       "6    15.0\n",
       "Name: nan_sales, dtype: float64"
      ]
     },
     "execution_count": 156,
     "metadata": {},
     "output_type": "execute_result"
    }
   ],
   "source": [
    "sales_series.fillna(8,inplace=True)\n",
    "sales_series"
   ]
  },
  {
   "cell_type": "code",
   "execution_count": 157,
   "metadata": {},
   "outputs": [
    {
     "data": {
      "text/plain": [
       "0     5.0\n",
       "1    10.0\n",
       "2     8.0\n",
       "3    22.5\n",
       "4    27.0\n",
       "5     8.0\n",
       "6    15.0\n",
       "Name: nan_sales, dtype: float64"
      ]
     },
     "execution_count": 157,
     "metadata": {},
     "output_type": "execute_result"
    }
   ],
   "source": [
    "sales_series.apply(discount)"
   ]
  },
  {
   "cell_type": "code",
   "execution_count": 172,
   "metadata": {},
   "outputs": [
    {
     "data": {
      "text/plain": [
       "0     5.0\n",
       "1    10.0\n",
       "2     8.0\n",
       "3    22.5\n",
       "4    27.0\n",
       "5     8.0\n",
       "6    15.0\n",
       "Name: nan_sales, dtype: float64"
      ]
     },
     "execution_count": 172,
     "metadata": {},
     "output_type": "execute_result"
    }
   ],
   "source": [
    "#We can also use lambda functions for one-off tasks\n",
    "sales_series.apply(lambda x: round(x*0.9,2) if x > 20 else x)"
   ]
  },
  {
   "cell_type": "markdown",
   "metadata": {},
   "source": [
    "### The Where Method\n",
    "\n",
    "Pandas `.where()` method returns series values based on a logical condition. It's very similar to the numpy where function but it's going to be a little bit less complete.\n",
    "\n",
    "`df.where(logical test\n",
    "          ,value if False\n",
    "          ,inplace = False)`\n",
    "        \n",
    "We only have the option to specify values if the value is false. We also have the option to do this inplace or not inplace, by default is not inplace.\n",
    "\n",
    "It's also possible to chain `.where()` to combine logical expressions."
   ]
  },
  {
   "cell_type": "code",
   "execution_count": 173,
   "metadata": {},
   "outputs": [
    {
     "data": {
      "text/plain": [
       "0     5.0\n",
       "1    10.0\n",
       "2     8.0\n",
       "3    25.0\n",
       "4    30.0\n",
       "5     8.0\n",
       "6    15.0\n",
       "Name: nan_sales, dtype: float64"
      ]
     },
     "execution_count": 173,
     "metadata": {},
     "output_type": "execute_result"
    }
   ],
   "source": [
    "sales_series"
   ]
  },
  {
   "cell_type": "code",
   "execution_count": 175,
   "metadata": {},
   "outputs": [
    {
     "data": {
      "text/plain": [
       "0     5.0\n",
       "1    10.0\n",
       "2     8.0\n",
       "3    22.5\n",
       "4    27.0\n",
       "5     8.0\n",
       "6    15.0\n",
       "Name: nan_sales, dtype: float64"
      ]
     },
     "execution_count": 175,
     "metadata": {},
     "output_type": "execute_result"
    }
   ],
   "source": [
    "sales_series.where(sales_series <= 20\n",
    "                  ,round(sales_series * 0.9,2)\n",
    "                   ,inplace=False\n",
    "                  )\n",
    "sales_series"
   ]
  },
  {
   "cell_type": "markdown",
   "metadata": {},
   "source": [
    "Since the `.where()` method for pandas only allows to set an option if the value is False, we have to think about the false cases for our test, so it can be a bit tricky to think about the false case first. However we can use the `~` trick so we can invert the truth values of a test to get things into a format that can be a little bit more intuitive."
   ]
  },
  {
   "cell_type": "code",
   "execution_count": 189,
   "metadata": {},
   "outputs": [
    {
     "data": {
      "text/plain": [
       "0     5.0\n",
       "1    10.0\n",
       "2     8.0\n",
       "3    22.5\n",
       "4    27.0\n",
       "5     8.0\n",
       "6    15.0\n",
       "Name: nan_sales, dtype: float64"
      ]
     },
     "execution_count": 189,
     "metadata": {},
     "output_type": "execute_result"
    }
   ],
   "source": [
    "sales_series.where(~(sales_series > 20)\n",
    "                  ,round(sales_series * 0.9,2)\n",
    "                   ,inplace=False\n",
    "                  )"
   ]
  },
  {
   "cell_type": "markdown",
   "metadata": {},
   "source": [
    "Still, since the NumPy `.where()` function is more complete, we can always use it, having in mind that will return a NumPy array that we will need to convert into a Pandas Series"
   ]
  },
  {
   "cell_type": "code",
   "execution_count": 192,
   "metadata": {},
   "outputs": [
    {
     "data": {
      "text/plain": [
       "0     5.0\n",
       "1    10.0\n",
       "2     8.0\n",
       "3    22.5\n",
       "4    27.0\n",
       "5     8.0\n",
       "6    15.0\n",
       "dtype: float64"
      ]
     },
     "execution_count": 192,
     "metadata": {},
     "output_type": "execute_result"
    }
   ],
   "source": [
    "pd.Series(np.where(sales_series > 20\n",
    "                   ,round(sales_series * 0.9,2)\n",
    "                   ,sales_series)\n",
    "         )"
   ]
  },
  {
   "cell_type": "markdown",
   "metadata": {},
   "source": [
    "### Key Takeawys\n",
    "\n",
    "**1 - Pandas Series add an index and title to NumPy arrays**\n",
    "* Pandas Series form the columns for DataFrames\n",
    "\n",
    "**2 - The `.loc()` and `.iloc()` methods are key in working with Pandas data structures**\n",
    "* These methods allow us to access rows in series, either by their positional index or by their labels\n",
    "\n",
    "**3 - Pandas and NumPy have similar operations for filtering, sorting and aggregating**\n",
    "* We should use built-in Pandas and NumPy functions to take advantage of vectorization, which is much more efficient than writing for loops in base Python\n",
    "\n",
    "**4 - Pandas lets us easily handle missing data**\n",
    "* It's important to understand the impact dropping or imputing might have on some analysis, so we should always make sure to consult an expert about the root cause of missing data"
   ]
  }
 ],
 "metadata": {
  "kernelspec": {
   "display_name": "Python 3",
   "language": "python",
   "name": "python3"
  },
  "language_info": {
   "codemirror_mode": {
    "name": "ipython",
    "version": 3
   },
   "file_extension": ".py",
   "mimetype": "text/x-python",
   "name": "python",
   "nbconvert_exporter": "python",
   "pygments_lexer": "ipython3",
   "version": "3.8.5"
  }
 },
 "nbformat": 4,
 "nbformat_minor": 4
}
